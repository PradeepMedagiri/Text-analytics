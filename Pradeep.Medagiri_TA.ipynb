{
 "cells": [
  {
   "cell_type": "markdown",
   "metadata": {},
   "source": [
    "# TEXT_ANALYTICS\n",
    "Applying text analytics to understand the relationship/similarity between companies based on their patents (title and Abstract)"
   ]
  },
  {
   "cell_type": "code",
   "execution_count": 1,
   "metadata": {},
   "outputs": [],
   "source": [
    "#imported packages\n",
    "from sklearn.feature_extraction.text import TfidfVectorizer\n",
    "import pandas as pd #to read Excel files\n",
    "from sklearn.feature_extraction.text import ENGLISH_STOP_WORDS\n",
    "import string #to remove punctuation and digits\n",
    "from glob import glob\n",
    "from sklearn.cluster import KMeans"
   ]
  },
  {
   "cell_type": "markdown",
   "metadata": {},
   "source": [
    "# Part A: Preprocess the data"
   ]
  },
  {
   "cell_type": "code",
   "execution_count": 2,
   "metadata": {},
   "outputs": [],
   "source": [
    "#variables\n",
    "stopwords = list(ENGLISH_STOP_WORDS)\n",
    "#more stopwords can be added by using .append \n",
    "p = string.punctuation\n",
    "d = string.digits\n",
    "combined = p + d"
   ]
  },
  {
   "cell_type": "code",
   "execution_count": 3,
   "metadata": {},
   "outputs": [],
   "source": [
    "#variables\n",
    "docs1 = []\n",
    "company_names = [] "
   ]
  },
  {
   "cell_type": "code",
   "execution_count": 4,
   "metadata": {},
   "outputs": [],
   "source": [
    "#function\n",
    "def func(txt):\n",
    "    txt = txt.lower() #normalizing\n",
    "    table = str.maketrans(combined, len(combined) * \" \") #removing punc\n",
    "    txt = txt.translate(table)\n",
    "    words = txt.split()\n",
    "    cleaned_words = [w for w in words if w not in stopwords] #removing stopwords\n",
    "    cleaned_text = \" \".join(cleaned_words) #cleaned text\n",
    "    return cleaned_text\n",
    "corpus = glob(\"Patents_xls/*xlsx\") #reading file into corpus"
   ]
  },
  {
   "cell_type": "code",
   "execution_count": 5,
   "metadata": {},
   "outputs": [],
   "source": [
    "#combined two columns AB and TI \n",
    "for c in corpus:\n",
    "    df = pd.read_excel(c)\n",
    "    df['AB'].dropna(inplace = True)\n",
    "    df['TI'].dropna(inplace = True)\n",
    "    df['joined_col'] = df.AB.str.cat(df.TI,sep=\" \")\n",
    "    combo = list (df['joined_col'])\n",
    "    #title=list(df['TI'])\n",
    "    combo_2 = ','.join([str(i) for i in combo])  \n",
    "    #\" \".join(abstracts)\n",
    "    combo_f = func(combo_2)\n",
    "    docs1.append(combo_f)\n",
    "    name = c.split(\"/\")[-1][:-5]\n",
    "    company_names.append(name)"
   ]
  },
  {
   "cell_type": "code",
   "execution_count": 6,
   "metadata": {},
   "outputs": [],
   "source": [
    "#lemmatization\n",
    "from nltk.stem import WordNetLemmatizer\n",
    "wnl = WordNetLemmatizer()\n",
    "lem_doc = []\n",
    "for sentence in docs1:\n",
    "    lem_doc.append(\" \".join([wnl.lemmatize(i) for i in sentence.split()]))"
   ]
  },
  {
   "cell_type": "code",
   "execution_count": 7,
   "metadata": {},
   "outputs": [
    {
     "data": {
      "text/plain": [
       "['method',\n",
       " 'handling',\n",
       " 'deferred',\n",
       " 'location',\n",
       " 'request',\n",
       " 'including',\n",
       " 'location',\n",
       " 'service',\n",
       " 'lcs',\n",
       " 'client']"
      ]
     },
     "execution_count": 7,
     "metadata": {},
     "output_type": "execute_result"
    }
   ],
   "source": [
    "#To get token's\n",
    "import nltk\n",
    "full_str = ' '.join([str(elem) for elem in lem_doc])\n",
    "words = nltk.word_tokenize(full_str)\n",
    "words[:10]\n",
    "#type(words)"
   ]
  },
  {
   "cell_type": "code",
   "execution_count": 9,
   "metadata": {},
   "outputs": [
    {
     "data": {
      "image/png": "[encoded data removed]",
      "text/plain": [
       "<Figure size 432x288 with 1 Axes>"
      ]
     },
     "metadata": {
      "needs_background": "light"
     },
     "output_type": "display_data"
    }
   ],
   "source": [
    "#frequent_words plot\n",
    "word_frequencies = nltk.FreqDist(words)\n",
    "word_frequencies.most_common(10)\n",
    "word_frequencies.plot(25)"
   ]
  },
  {
   "cell_type": "code",
   "execution_count": 10,
   "metadata": {},
   "outputs": [
    {
     "data": {
      "text/plain": [
       "[('method', 28640),\n",
       " ('data', 23139),\n",
       " ('device', 22072),\n",
       " ('second', 19217),\n",
       " ('layer', 16160),\n",
       " ('signal', 16022),\n",
       " ('includes', 14047),\n",
       " ('display', 11610),\n",
       " ('apparatus', 11480),\n",
       " ('electrode', 11127)]"
      ]
     },
     "execution_count": 10,
     "metadata": {},
     "output_type": "execute_result"
    }
   ],
   "source": [
    "#word_count\n",
    "from collections import Counter\n",
    "c = Counter(words)\n",
    "c.most_common(10)"
   ]
  },
  {
   "cell_type": "code",
   "execution_count": 11,
   "metadata": {},
   "outputs": [
    {
     "data": {
      "text/plain": [
       "textblob.blob.WordList"
      ]
     },
     "execution_count": 11,
     "metadata": {},
     "output_type": "execute_result"
    }
   ],
   "source": [
    "#to get POS_Tags\n",
    "from textblob import TextBlob\n",
    "txt = TextBlob(full_str)\n",
    "x=txt.words\n",
    "y=txt.sentences\n",
    "type(x)"
   ]
  },
  {
   "cell_type": "code",
   "execution_count": 12,
   "metadata": {},
   "outputs": [],
   "source": [
    "#x[:10]\n",
    "#y[:1]"
   ]
  },
  {
   "cell_type": "code",
   "execution_count": 13,
   "metadata": {},
   "outputs": [],
   "source": [
    "#Run to get pos_tags, takes more time to run so commented\n",
    "#import nltk\n",
    "#nltk.download('averaged_perceptron_tagger')\n",
    "#z=txt.tags\n",
    "#z[:10]"
   ]
  },
  {
   "cell_type": "code",
   "execution_count": 14,
   "metadata": {},
   "outputs": [
    {
     "name": "stdout",
     "output_type": "stream",
     "text": [
      "(13, 17181)\n"
     ]
    }
   ],
   "source": [
    "#after lemmatization\n",
    "vectorizer = TfidfVectorizer()\n",
    "sparse_matrix = vectorizer.fit_transform(lem_doc)\n",
    "print(sparse_matrix.shape)"
   ]
  },
  {
   "cell_type": "code",
   "execution_count": 15,
   "metadata": {},
   "outputs": [
    {
     "name": "stdout",
     "output_type": "stream",
     "text": [
      "[[0.         0.         0.         ... 0.         0.00040381 0.        ]\n",
      " [0.00702699 0.         0.         ... 0.         0.00012584 0.00042258]\n",
      " [0.         0.         0.         ... 0.         0.         0.        ]\n",
      " ...\n",
      " [0.         0.         0.         ... 0.         0.00020068 0.        ]\n",
      " [0.         0.         0.         ... 0.         0.00020068 0.        ]\n",
      " [0.         0.         0.         ... 0.         0.         0.        ]]\n"
     ]
    }
   ],
   "source": [
    "#converting to dense format\n",
    "dense_matrix = sparse_matrix.todense()\n",
    "tdm = dense_matrix.transpose()\n",
    "print(tdm)"
   ]
  },
  {
   "cell_type": "markdown",
   "metadata": {},
   "source": [
    "# Part B\n",
    "# Multidimensional Scaling"
   ]
  },
  {
   "cell_type": "code",
   "execution_count": 16,
   "metadata": {},
   "outputs": [],
   "source": [
    "#imported packages and initiated\n",
    "from sklearn.metrics.pairwise import cosine_similarity\n",
    "vectorizer_MSD = TfidfVectorizer(stop_words = 'english', min_df = 2)\n",
    "dtm1 = vectorizer.fit_transform(lem_doc)\n",
    "similarity1 = cosine_similarity(dtm1)\n",
    "cos_distance1 = 1 - similarity1\n",
    "#print(cos_distance1)"
   ]
  },
  {
   "cell_type": "code",
   "execution_count": 17,
   "metadata": {},
   "outputs": [],
   "source": [
    "from sklearn.manifold import MDS\n",
    "import matplotlib.pyplot as plt"
   ]
  },
  {
   "cell_type": "code",
   "execution_count": 18,
   "metadata": {},
   "outputs": [],
   "source": [
    "mds = MDS(n_components = 2, dissimilarity='precomputed', random_state=1)\n",
    "pos1 = mds.fit_transform(cos_distance1)\n",
    "#print(pos1)"
   ]
  },
  {
   "cell_type": "code",
   "execution_count": 19,
   "metadata": {},
   "outputs": [
    {
     "data": {
      "image/png": "[encoded data removed]",
      "text/plain": [
       "<Figure size 432x288 with 1 Axes>"
      ]
     },
     "metadata": {
      "needs_background": "light"
     },
     "output_type": "display_data"
    }
   ],
   "source": [
    "#plot MDS\n",
    "plt.title(\"Based on AB & TI\", size=15)\n",
    "xs, ys = pos1[:,0], pos1[:,1]\n",
    "for x, y, name in zip(xs, ys, company_names):\n",
    "    plt.scatter(x, y)\n",
    "    plt.text(x, y, name)\n",
    "plt.show()"
   ]
  },
  {
   "cell_type": "markdown",
   "metadata": {},
   "source": [
    "# Hierarchical Clustering (Dendrogram)"
   ]
  },
  {
   "cell_type": "code",
   "execution_count": 20,
   "metadata": {},
   "outputs": [],
   "source": [
    "from scipy.cluster.hierarchy import ward, dendrogram\n",
    "linkage_matrix= ward(cos_distance1)"
   ]
  },
  {
   "cell_type": "code",
   "execution_count": 21,
   "metadata": {
    "scrolled": true
   },
   "outputs": [
    {
     "data": {
      "image/png": "[encoded data removed]",
      "text/plain": [
       "<Figure size 432x288 with 1 Axes>"
      ]
     },
     "metadata": {
      "needs_background": "light"
     },
     "output_type": "display_data"
    }
   ],
   "source": [
    "plt.title(\"Based on AB & TI\", size=15)\n",
    "dendrogram(linkage_matrix, orientation='right', labels=company_names)\n",
    "plt.tight_layout()\n",
    "plt.show()"
   ]
  },
  {
   "cell_type": "code",
   "execution_count": 22,
   "metadata": {},
   "outputs": [],
   "source": [
    "#results"
   ]
  },
  {
   "cell_type": "markdown",
   "metadata": {},
   "source": [
    "# K-Means"
   ]
  },
  {
   "cell_type": "code",
   "execution_count": 23,
   "metadata": {},
   "outputs": [
    {
     "data": {
      "text/plain": [
       "array([2, 1, 3, 2, 2, 3, 2, 3, 1, 0, 0, 0, 1], dtype=int32)"
      ]
     },
     "execution_count": 23,
     "metadata": {},
     "output_type": "execute_result"
    }
   ],
   "source": [
    "km = KMeans(n_clusters=4, random_state=999)\n",
    "km.fit(sparse_matrix) #computes k-means clustering\n",
    "cluster_membership = km.predict(sparse_matrix) #predicts closest cluster\n",
    "company_distance_to_center = km.transform(sparse_matrix) #cluster distance\n",
    "cluster_membership"
   ]
  },
  {
   "cell_type": "code",
   "execution_count": 24,
   "metadata": {
    "scrolled": true
   },
   "outputs": [
    {
     "name": "stdout",
     "output_type": "stream",
     "text": [
      "[[0.94600271 0.72570399 0.46298555 0.85096156]\n",
      " [0.80576567 0.31564952 0.57830029 0.65642998]\n",
      " [0.97475304 0.90731234 0.77461792 0.56049955]\n",
      " [0.84289544 0.52552974 0.40341688 0.59550841]\n",
      " [1.01889665 0.87042947 0.61996453 0.89063808]\n",
      " [0.85976299 0.6938723  0.74584867 0.41187197]\n",
      " [1.04931115 0.89859615 0.53071304 0.91378724]\n",
      " [0.98438531 0.93756749 0.97257449 0.60869043]\n",
      " [0.94704115 0.41946552 0.77049057 0.90360875]\n",
      " [0.39109221 0.85187615 0.87442579 0.84478298]\n",
      " [0.56207218 0.95177852 1.04337997 0.99039381]\n",
      " [0.32854102 0.82273018 0.86583426 0.82844873]\n",
      " [0.75685125 0.33427579 0.67295406 0.68507089]]\n"
     ]
    }
   ],
   "source": [
    "print(company_distance_to_center)"
   ]
  },
  {
   "cell_type": "code",
   "execution_count": 25,
   "metadata": {},
   "outputs": [
    {
     "name": "stdout",
     "output_type": "stream",
     "text": [
      "Company_Names  Cluster  \n",
      "Huawei          2\n",
      "Google          1\n",
      "Pantech         3\n",
      "Nokia           2\n",
      "InterDigital    2\n",
      "Sony Ericsson   3\n",
      "ZTE             2\n",
      "HTC             3\n",
      "Oracle          1\n",
      "LG              0\n",
      "Kodak           0\n",
      "Samsung         0\n",
      "Apple           1\n"
     ]
    }
   ],
   "source": [
    "#cluster for each company\n",
    "clusters = zip(cluster_membership, company_names)\n",
    "print(\"{0:<15s}{1:<9s}\".format(\"Company_Names\",\"Cluster\"))\n",
    "for cluster_number, company_name in clusters:\n",
    "    print(\"{0:<15s}{1:2d}\".format(company_name,cluster_number))"
   ]
  },
  {
   "cell_type": "code",
   "execution_count": 26,
   "metadata": {},
   "outputs": [
    {
     "data": {
      "text/html": [
       "<div>\n",
       "<style scoped>\n",
       "    .dataframe tbody tr th:only-of-type {\n",
       "        vertical-align: middle;\n",
       "    }\n",
       "\n",
       "    .dataframe tbody tr th {\n",
       "        vertical-align: top;\n",
       "    }\n",
       "\n",
       "    .dataframe thead th {\n",
       "        text-align: right;\n",
       "    }\n",
       "</style>\n",
       "<table border=\"1\" class=\"dataframe\">\n",
       "  <thead>\n",
       "    <tr style=\"text-align: right;\">\n",
       "      <th></th>\n",
       "      <th>Company</th>\n",
       "      <th>Cluster_Final</th>\n",
       "      <th>Centroid_Dist0</th>\n",
       "      <th>Centroid_Dist1</th>\n",
       "      <th>Centroid_Dist2</th>\n",
       "      <th>Centroid_Dist3</th>\n",
       "    </tr>\n",
       "  </thead>\n",
       "  <tbody>\n",
       "    <tr>\n",
       "      <th>0</th>\n",
       "      <td>Huawei</td>\n",
       "      <td>2</td>\n",
       "      <td>0.946003</td>\n",
       "      <td>0.725704</td>\n",
       "      <td>0.462986</td>\n",
       "      <td>0.850962</td>\n",
       "    </tr>\n",
       "    <tr>\n",
       "      <th>1</th>\n",
       "      <td>Google</td>\n",
       "      <td>1</td>\n",
       "      <td>0.805766</td>\n",
       "      <td>0.315650</td>\n",
       "      <td>0.578300</td>\n",
       "      <td>0.656430</td>\n",
       "    </tr>\n",
       "    <tr>\n",
       "      <th>2</th>\n",
       "      <td>Pantech</td>\n",
       "      <td>3</td>\n",
       "      <td>0.974753</td>\n",
       "      <td>0.907312</td>\n",
       "      <td>0.774618</td>\n",
       "      <td>0.560500</td>\n",
       "    </tr>\n",
       "    <tr>\n",
       "      <th>3</th>\n",
       "      <td>Nokia</td>\n",
       "      <td>2</td>\n",
       "      <td>0.842895</td>\n",
       "      <td>0.525530</td>\n",
       "      <td>0.403417</td>\n",
       "      <td>0.595508</td>\n",
       "    </tr>\n",
       "    <tr>\n",
       "      <th>4</th>\n",
       "      <td>InterDigital</td>\n",
       "      <td>2</td>\n",
       "      <td>1.018897</td>\n",
       "      <td>0.870429</td>\n",
       "      <td>0.619965</td>\n",
       "      <td>0.890638</td>\n",
       "    </tr>\n",
       "    <tr>\n",
       "      <th>5</th>\n",
       "      <td>Sony Ericsson</td>\n",
       "      <td>3</td>\n",
       "      <td>0.859763</td>\n",
       "      <td>0.693872</td>\n",
       "      <td>0.745849</td>\n",
       "      <td>0.411872</td>\n",
       "    </tr>\n",
       "    <tr>\n",
       "      <th>6</th>\n",
       "      <td>ZTE</td>\n",
       "      <td>2</td>\n",
       "      <td>1.049311</td>\n",
       "      <td>0.898596</td>\n",
       "      <td>0.530713</td>\n",
       "      <td>0.913787</td>\n",
       "    </tr>\n",
       "    <tr>\n",
       "      <th>7</th>\n",
       "      <td>HTC</td>\n",
       "      <td>3</td>\n",
       "      <td>0.984385</td>\n",
       "      <td>0.937567</td>\n",
       "      <td>0.972574</td>\n",
       "      <td>0.608690</td>\n",
       "    </tr>\n",
       "    <tr>\n",
       "      <th>8</th>\n",
       "      <td>Oracle</td>\n",
       "      <td>1</td>\n",
       "      <td>0.947041</td>\n",
       "      <td>0.419466</td>\n",
       "      <td>0.770491</td>\n",
       "      <td>0.903609</td>\n",
       "    </tr>\n",
       "    <tr>\n",
       "      <th>9</th>\n",
       "      <td>LG</td>\n",
       "      <td>0</td>\n",
       "      <td>0.391092</td>\n",
       "      <td>0.851876</td>\n",
       "      <td>0.874426</td>\n",
       "      <td>0.844783</td>\n",
       "    </tr>\n",
       "    <tr>\n",
       "      <th>10</th>\n",
       "      <td>Kodak</td>\n",
       "      <td>0</td>\n",
       "      <td>0.562072</td>\n",
       "      <td>0.951779</td>\n",
       "      <td>1.043380</td>\n",
       "      <td>0.990394</td>\n",
       "    </tr>\n",
       "    <tr>\n",
       "      <th>11</th>\n",
       "      <td>Samsung</td>\n",
       "      <td>0</td>\n",
       "      <td>0.328541</td>\n",
       "      <td>0.822730</td>\n",
       "      <td>0.865834</td>\n",
       "      <td>0.828449</td>\n",
       "    </tr>\n",
       "    <tr>\n",
       "      <th>12</th>\n",
       "      <td>Apple</td>\n",
       "      <td>1</td>\n",
       "      <td>0.756851</td>\n",
       "      <td>0.334276</td>\n",
       "      <td>0.672954</td>\n",
       "      <td>0.685071</td>\n",
       "    </tr>\n",
       "  </tbody>\n",
       "</table>\n",
       "</div>"
      ],
      "text/plain": [
       "          Company  Cluster_Final  Centroid_Dist0  Centroid_Dist1  \\\n",
       "0          Huawei              2        0.946003        0.725704   \n",
       "1          Google              1        0.805766        0.315650   \n",
       "2         Pantech              3        0.974753        0.907312   \n",
       "3           Nokia              2        0.842895        0.525530   \n",
       "4    InterDigital              2        1.018897        0.870429   \n",
       "5   Sony Ericsson              3        0.859763        0.693872   \n",
       "6             ZTE              2        1.049311        0.898596   \n",
       "7             HTC              3        0.984385        0.937567   \n",
       "8          Oracle              1        0.947041        0.419466   \n",
       "9              LG              0        0.391092        0.851876   \n",
       "10          Kodak              0        0.562072        0.951779   \n",
       "11        Samsung              0        0.328541        0.822730   \n",
       "12          Apple              1        0.756851        0.334276   \n",
       "\n",
       "    Centroid_Dist2  Centroid_Dist3  \n",
       "0         0.462986        0.850962  \n",
       "1         0.578300        0.656430  \n",
       "2         0.774618        0.560500  \n",
       "3         0.403417        0.595508  \n",
       "4         0.619965        0.890638  \n",
       "5         0.745849        0.411872  \n",
       "6         0.530713        0.913787  \n",
       "7         0.972574        0.608690  \n",
       "8         0.770491        0.903609  \n",
       "9         0.874426        0.844783  \n",
       "10        1.043380        0.990394  \n",
       "11        0.865834        0.828449  \n",
       "12        0.672954        0.685071  "
      ]
     },
     "execution_count": 26,
     "metadata": {},
     "output_type": "execute_result"
    }
   ],
   "source": [
    "#fitting in dataframe\n",
    "companies = {'Company': company_names, 'Cluster_Final': cluster_membership,\\\n",
    "            'Centroid_Dist0':company_distance_to_center[0:,0],\\\n",
    "            'Centroid_Dist1':company_distance_to_center[0:,1],\\\n",
    "            'Centroid_Dist2':company_distance_to_center[0:,2],\\\n",
    "            'Centroid_Dist3':company_distance_to_center[0:,3]\n",
    "            }\n",
    "#let us put this in a dataframe\n",
    "import pandas as pd\n",
    "df_km = pd.DataFrame(companies)\n",
    "df_km"
   ]
  },
  {
   "cell_type": "code",
   "execution_count": 27,
   "metadata": {},
   "outputs": [],
   "source": [
    "#plot K-means cluster\n",
    "from matplotlib import pyplot as plt\n",
    "from sklearn.cluster import KMeans\n",
    "%matplotlib inline\n",
    "import matplotlib.pyplot as plt\n",
    "import seaborn as sns; sns.set()  # for plot styling\n",
    "import numpy as np"
   ]
  },
  {
   "cell_type": "code",
   "execution_count": 28,
   "metadata": {},
   "outputs": [
    {
     "data": {
      "text/plain": [
       "Text(0.5, 1.0, 'Based on AB & TI')"
      ]
     },
     "execution_count": 28,
     "metadata": {},
     "output_type": "execute_result"
    },
    {
     "data": {
      "image/png": "[encoded data removed]",
      "text/plain": [
       "<Figure size 432x288 with 1 Axes>"
      ]
     },
     "metadata": {},
     "output_type": "display_data"
    }
   ],
   "source": [
    "#plotted by taking best measures (distances out of 4)\n",
    "plt.scatter(company_distance_to_center[0:,0], company_distance_to_center[0:,3], c=cluster_membership, s=50, cmap='viridis')\n",
    "plt.title(\"Based on AB & TI\", size=15)"
   ]
  },
  {
   "cell_type": "markdown",
   "metadata": {},
   "source": [
    "- Comparatively Hierarchical Clustering and K-Means shows similar outputs, three out of four companies exibits similar results (by taking clusters=4 in K-Means)  \n",
    "- When compared above two models with Multidimensional Scaling, results are not as same and similarity is less"
   ]
  },
  {
   "cell_type": "markdown",
   "metadata": {},
   "source": [
    "# Part C\n",
    "# NMF"
   ]
  },
  {
   "cell_type": "code",
   "execution_count": 29,
   "metadata": {},
   "outputs": [],
   "source": [
    "#imported packages\n",
    "import numpy as np\n",
    "from sklearn.feature_extraction.text import CountVectorizer, TfidfVectorizer\n",
    "import glob\n",
    "import os\n",
    "from sklearn import decomposition"
   ]
  },
  {
   "cell_type": "code",
   "execution_count": 30,
   "metadata": {},
   "outputs": [],
   "source": [
    "vectorizer = TfidfVectorizer(stop_words = 'english', min_df = 2)"
   ]
  },
  {
   "cell_type": "code",
   "execution_count": 31,
   "metadata": {},
   "outputs": [],
   "source": [
    "dtm = vectorizer.fit_transform(lem_doc)\n",
    "vocab = vectorizer.get_feature_names() \n",
    "names = [fn[:-4] for fn in corpus]"
   ]
  },
  {
   "cell_type": "code",
   "execution_count": 32,
   "metadata": {},
   "outputs": [],
   "source": [
    "num_topics = 5\n",
    "num_top_words = 20\n",
    "clf = decomposition.NMF(n_components = num_topics, random_state=1)\n",
    "doctopic = clf.fit_transform(dtm)\n",
    "topic_words = []\n",
    "for topic in clf.components_:\n",
    "    word_idx = np.argsort(topic)[::-1][0:num_top_words]\n",
    "    topic_words.append([vocab[i] for i in word_idx])"
   ]
  },
  {
   "cell_type": "code",
   "execution_count": 33,
   "metadata": {
    "scrolled": false
   },
   "outputs": [
    {
     "name": "stdout",
     "output_type": "stream",
     "text": [
      "Getting results: 5 topics\n",
      "Topic 0: data method device user network second information application object includes based embodiment set associated memory\n",
      "Topic 1: image electrode layer method second device data light display substrate includes having pixel apparatus liquid\n",
      "Topic 2: device second unit electronic remote host nan body plurality circuit portable antenna communication tone method\n",
      "Topic 3: communication mobile terminal data signal method channel device information unit wireless having antenna power station\n",
      "Topic 4: method network service signal invention control packet present data communication device gateway terminal message user\n"
     ]
    }
   ],
   "source": [
    "print(\"Getting results: 5 topics\")\n",
    "for t in range(len(topic_words)):\n",
    "    print(\"Topic {}: {}\".format(t, ' '.join(topic_words[t][:15])))"
   ]
  },
  {
   "cell_type": "markdown",
   "metadata": {},
   "source": [
    "# LDA"
   ]
  },
  {
   "cell_type": "code",
   "execution_count": 34,
   "metadata": {},
   "outputs": [],
   "source": [
    "#imported packages\n",
    "from sklearn.decomposition import LatentDirichletAllocation\n",
    "vectorizer = CountVectorizer(max_df=0.95, min_df=2, max_features=10000, stop_words='english')\n",
    "num_topics = 5\n",
    "dtm = vectorizer.fit_transform(lem_doc)"
   ]
  },
  {
   "cell_type": "code",
   "execution_count": 35,
   "metadata": {},
   "outputs": [],
   "source": [
    "lda = LatentDirichletAllocation(n_components=num_topics, learning_method=\"batch\",  max_iter=2000, random_state=0)"
   ]
  },
  {
   "cell_type": "code",
   "execution_count": 36,
   "metadata": {},
   "outputs": [],
   "source": [
    "#takes time than usual to run\n",
    "document_topics = lda.fit_transform(dtm)"
   ]
  },
  {
   "cell_type": "code",
   "execution_count": 37,
   "metadata": {},
   "outputs": [],
   "source": [
    "feature_names = vectorizer.get_feature_names()"
   ]
  },
  {
   "cell_type": "code",
   "execution_count": 38,
   "metadata": {
    "scrolled": true
   },
   "outputs": [
    {
     "name": "stdout",
     "output_type": "stream",
     "text": [
      "Getting results: 5 topics\n",
      "Topic 0:\n",
      "image electronic message display element antenna received provided content said packet frame nan associated location receiver portable computer video audio\n",
      "Topic 1:\n",
      "image layer color material light printing element pixel substrate camera sensor surface ink liquid imaging group display region charge electrode\n",
      "Topic 2:\n",
      "application node object embodiment associated database message computer client packet file query provided storage code document web instruction provides multiple\n",
      "Topic 3:\n",
      "display electrode layer substrate line liquid crystal pixel gate recording light panel provided film region area driving surface image optical\n",
      "Topic 4:\n",
      "layer electrode substrate semiconductor display light line image region gate pattern provided forming surface transistor pixel film source area panel\n"
     ]
    }
   ],
   "source": [
    "def display_topics(model, feature_names, n_top_words):\n",
    "    for idx, topic in enumerate(model.components_):\n",
    "        print(\"Topic %d:\" % (idx))\n",
    "        print(\" \".join([feature_names[i]\n",
    "                        for i in topic.argsort()[:-n_top_words - 1:-1]]))\n",
    "print(\"Getting results: 5 topics\")\n",
    "display_topics(lda, feature_names, 20)"
   ]
  },
  {
   "cell_type": "markdown",
   "metadata": {},
   "source": [
    "# LSA/LSI"
   ]
  },
  {
   "cell_type": "code",
   "execution_count": 39,
   "metadata": {},
   "outputs": [],
   "source": [
    "from sklearn.decomposition import TruncatedSVD\n",
    "from sklearn.feature_extraction.text import CountVectorizer"
   ]
  },
  {
   "cell_type": "code",
   "execution_count": 40,
   "metadata": {},
   "outputs": [],
   "source": [
    "vectorizer = CountVectorizer(min_df=5, max_df=0.9,stop_words='english', lowercase=True)\n",
    "data_vectorized = vectorizer.fit_transform(lem_doc)"
   ]
  },
  {
   "cell_type": "code",
   "execution_count": 41,
   "metadata": {},
   "outputs": [],
   "source": [
    "def get_topics(model, vectorizer, model_name, dff, top_n = 20):\n",
    "        result = []\n",
    "        for idx, topic in enumerate(model.components_): \n",
    "            print(\"Topic %d:\" % (idx))\n",
    "            topic_label = model_name + \"_topic_\" + str(idx)            \n",
    "            score = \"SCORE_\" + str(idx)\n",
    "            aList = [(vectorizer.get_feature_names()[i], topic[i]) for i in topic.argsort()[:-top_n - 1:-1]]\n",
    "            l1, l2 = zip(*aList)\n",
    "            dff[topic_label] = l1\n",
    "            dff[score] = l2\n",
    "            print(\" \".join([feature_names[i]\n",
    "                        for i in topic.argsort()[:-top_n - 1:-1]]))\n",
    "        return dff"
   ]
  },
  {
   "cell_type": "code",
   "execution_count": 42,
   "metadata": {
    "scrolled": false
   },
   "outputs": [
    {
     "name": "stdout",
     "output_type": "stream",
     "text": [
      "Getting results: 5 topics and scores\n",
      "Topic 0:\n",
      "cellular current exchanged complex dispose firewire colorants framing dipping cutout binarized fa carry convolution chamfered feeding electroactive decided amplifying diagnostic\n",
      "Topic 1:\n",
      "cutout binarized electroactive dispose cellular dipping actual altered diagnostic dispersing greatest asynchronously carry date byte crystallinity demanded capture colorants announcement\n",
      "Topic 2:\n",
      "destroys colloidal asked dvd capillary centerline cl fpc conveyed decrement groove dpd drug course fb gradually clear fc forbidden apl\n",
      "Topic 3:\n",
      "centerline deployment adjustable competition exclude applet distributing decoupled frequently assure capillary fe announcement arbitrating chroma complexity advisor course bezel assistance\n",
      "Topic 4:\n",
      "capillary doubling decomposes assure exclude applet dvd dispose dose convection current communicable double approached consistency arithmetically cart distorted approaching exhibited\n"
     ]
    },
    {
     "data": {
      "text/html": [
       "<div>\n",
       "<style scoped>\n",
       "    .dataframe tbody tr th:only-of-type {\n",
       "        vertical-align: middle;\n",
       "    }\n",
       "\n",
       "    .dataframe tbody tr th {\n",
       "        vertical-align: top;\n",
       "    }\n",
       "\n",
       "    .dataframe thead th {\n",
       "        text-align: right;\n",
       "    }\n",
       "</style>\n",
       "<table border=\"1\" class=\"dataframe\">\n",
       "  <thead>\n",
       "    <tr style=\"text-align: right;\">\n",
       "      <th></th>\n",
       "      <th>LSI_topic_0</th>\n",
       "      <th>SCORE_0</th>\n",
       "      <th>LSI_topic_1</th>\n",
       "      <th>SCORE_1</th>\n",
       "      <th>LSI_topic_2</th>\n",
       "      <th>SCORE_2</th>\n",
       "      <th>LSI_topic_3</th>\n",
       "      <th>SCORE_3</th>\n",
       "      <th>LSI_topic_4</th>\n",
       "      <th>SCORE_4</th>\n",
       "    </tr>\n",
       "  </thead>\n",
       "  <tbody>\n",
       "    <tr>\n",
       "      <th>0</th>\n",
       "      <td>electrode</td>\n",
       "      <td>0.445399</td>\n",
       "      <td>liquid</td>\n",
       "      <td>0.397482</td>\n",
       "      <td>object</td>\n",
       "      <td>0.301837</td>\n",
       "      <td>element</td>\n",
       "      <td>0.320665</td>\n",
       "      <td>document</td>\n",
       "      <td>0.285954</td>\n",
       "    </tr>\n",
       "    <tr>\n",
       "      <th>1</th>\n",
       "      <td>light</td>\n",
       "      <td>0.285574</td>\n",
       "      <td>crystal</td>\n",
       "      <td>0.388335</td>\n",
       "      <td>file</td>\n",
       "      <td>0.211373</td>\n",
       "      <td>nan</td>\n",
       "      <td>0.204582</td>\n",
       "      <td>printing</td>\n",
       "      <td>0.230323</td>\n",
       "    </tr>\n",
       "    <tr>\n",
       "      <th>2</th>\n",
       "      <td>semiconductor</td>\n",
       "      <td>0.282730</td>\n",
       "      <td>recording</td>\n",
       "      <td>0.264082</td>\n",
       "      <td>client</td>\n",
       "      <td>0.177276</td>\n",
       "      <td>antenna</td>\n",
       "      <td>0.200211</td>\n",
       "      <td>material</td>\n",
       "      <td>0.225441</td>\n",
       "    </tr>\n",
       "    <tr>\n",
       "      <th>3</th>\n",
       "      <td>gate</td>\n",
       "      <td>0.249059</td>\n",
       "      <td>pixel</td>\n",
       "      <td>0.172276</td>\n",
       "      <td>query</td>\n",
       "      <td>0.154029</td>\n",
       "      <td>frame</td>\n",
       "      <td>0.190366</td>\n",
       "      <td>color</td>\n",
       "      <td>0.222495</td>\n",
       "    </tr>\n",
       "    <tr>\n",
       "      <th>4</th>\n",
       "      <td>pixel</td>\n",
       "      <td>0.187619</td>\n",
       "      <td>electrode</td>\n",
       "      <td>0.134507</td>\n",
       "      <td>document</td>\n",
       "      <td>0.152905</td>\n",
       "      <td>sensor</td>\n",
       "      <td>0.150335</td>\n",
       "      <td>sensor</td>\n",
       "      <td>0.205354</td>\n",
       "    </tr>\n",
       "    <tr>\n",
       "      <th>5</th>\n",
       "      <td>surface</td>\n",
       "      <td>0.166164</td>\n",
       "      <td>panel</td>\n",
       "      <td>0.112701</td>\n",
       "      <td>element</td>\n",
       "      <td>0.143441</td>\n",
       "      <td>camera</td>\n",
       "      <td>0.128434</td>\n",
       "      <td>camera</td>\n",
       "      <td>0.180755</td>\n",
       "    </tr>\n",
       "    <tr>\n",
       "      <th>6</th>\n",
       "      <td>film</td>\n",
       "      <td>0.164249</td>\n",
       "      <td>air</td>\n",
       "      <td>0.101152</td>\n",
       "      <td>event</td>\n",
       "      <td>0.137689</td>\n",
       "      <td>portable</td>\n",
       "      <td>0.124188</td>\n",
       "      <td>query</td>\n",
       "      <td>0.146797</td>\n",
       "    </tr>\n",
       "    <tr>\n",
       "      <th>7</th>\n",
       "      <td>transistor</td>\n",
       "      <td>0.152432</td>\n",
       "      <td>battery</td>\n",
       "      <td>0.099087</td>\n",
       "      <td>transaction</td>\n",
       "      <td>0.137143</td>\n",
       "      <td>mean</td>\n",
       "      <td>0.122893</td>\n",
       "      <td>pixel</td>\n",
       "      <td>0.146141</td>\n",
       "    </tr>\n",
       "    <tr>\n",
       "      <th>8</th>\n",
       "      <td>panel</td>\n",
       "      <td>0.147886</td>\n",
       "      <td>optical</td>\n",
       "      <td>0.090385</td>\n",
       "      <td>instruction</td>\n",
       "      <td>0.133899</td>\n",
       "      <td>transmitter</td>\n",
       "      <td>0.103456</td>\n",
       "      <td>print</td>\n",
       "      <td>0.142966</td>\n",
       "    </tr>\n",
       "    <tr>\n",
       "      <th>9</th>\n",
       "      <td>liquid</td>\n",
       "      <td>0.146021</td>\n",
       "      <td>picture</td>\n",
       "      <td>0.086575</td>\n",
       "      <td>mechanism</td>\n",
       "      <td>0.132988</td>\n",
       "      <td>color</td>\n",
       "      <td>0.097731</td>\n",
       "      <td>ink</td>\n",
       "      <td>0.142332</td>\n",
       "    </tr>\n",
       "    <tr>\n",
       "      <th>10</th>\n",
       "      <td>crystal</td>\n",
       "      <td>0.145679</td>\n",
       "      <td>water</td>\n",
       "      <td>0.086116</td>\n",
       "      <td>web</td>\n",
       "      <td>0.131709</td>\n",
       "      <td>document</td>\n",
       "      <td>0.096321</td>\n",
       "      <td>light</td>\n",
       "      <td>0.140158</td>\n",
       "    </tr>\n",
       "    <tr>\n",
       "      <th>11</th>\n",
       "      <td>source</td>\n",
       "      <td>0.143532</td>\n",
       "      <td>common</td>\n",
       "      <td>0.085142</td>\n",
       "      <td>program</td>\n",
       "      <td>0.131660</td>\n",
       "      <td>stream</td>\n",
       "      <td>0.092786</td>\n",
       "      <td>fluid</td>\n",
       "      <td>0.113879</td>\n",
       "    </tr>\n",
       "    <tr>\n",
       "      <th>12</th>\n",
       "      <td>driving</td>\n",
       "      <td>0.120877</td>\n",
       "      <td>driving</td>\n",
       "      <td>0.084558</td>\n",
       "      <td>provides</td>\n",
       "      <td>0.129160</td>\n",
       "      <td>broadcast</td>\n",
       "      <td>0.089437</td>\n",
       "      <td>printer</td>\n",
       "      <td>0.112859</td>\n",
       "    </tr>\n",
       "    <tr>\n",
       "      <th>13</th>\n",
       "      <td>insulating</td>\n",
       "      <td>0.113216</td>\n",
       "      <td>machine</td>\n",
       "      <td>0.083172</td>\n",
       "      <td>item</td>\n",
       "      <td>0.123392</td>\n",
       "      <td>cellular</td>\n",
       "      <td>0.081002</td>\n",
       "      <td>capture</td>\n",
       "      <td>0.111100</td>\n",
       "    </tr>\n",
       "    <tr>\n",
       "      <th>14</th>\n",
       "      <td>emitting</td>\n",
       "      <td>0.108949</td>\n",
       "      <td>disc</td>\n",
       "      <td>0.082005</td>\n",
       "      <td>store</td>\n",
       "      <td>0.116296</td>\n",
       "      <td>entity</td>\n",
       "      <td>0.072237</td>\n",
       "      <td>imaging</td>\n",
       "      <td>0.110277</td>\n",
       "    </tr>\n",
       "    <tr>\n",
       "      <th>15</th>\n",
       "      <td>structure</td>\n",
       "      <td>0.108611</td>\n",
       "      <td>lcd</td>\n",
       "      <td>0.077606</td>\n",
       "      <td>virtual</td>\n",
       "      <td>0.112233</td>\n",
       "      <td>gateway</td>\n",
       "      <td>0.072041</td>\n",
       "      <td>charge</td>\n",
       "      <td>0.101348</td>\n",
       "    </tr>\n",
       "    <tr>\n",
       "      <th>16</th>\n",
       "      <td>recording</td>\n",
       "      <td>0.108096</td>\n",
       "      <td>motor</td>\n",
       "      <td>0.068488</td>\n",
       "      <td>execution</td>\n",
       "      <td>0.106983</td>\n",
       "      <td>arrangement</td>\n",
       "      <td>0.067467</td>\n",
       "      <td>drop</td>\n",
       "      <td>0.096593</td>\n",
       "    </tr>\n",
       "    <tr>\n",
       "      <th>17</th>\n",
       "      <td>manufacturing</td>\n",
       "      <td>0.101066</td>\n",
       "      <td>door</td>\n",
       "      <td>0.065508</td>\n",
       "      <td>stored</td>\n",
       "      <td>0.106629</td>\n",
       "      <td>item</td>\n",
       "      <td>0.066905</td>\n",
       "      <td>polymer</td>\n",
       "      <td>0.091508</td>\n",
       "    </tr>\n",
       "    <tr>\n",
       "      <th>18</th>\n",
       "      <td>bit</td>\n",
       "      <td>0.096301</td>\n",
       "      <td>film</td>\n",
       "      <td>0.060534</td>\n",
       "      <td>thread</td>\n",
       "      <td>0.106043</td>\n",
       "      <td>coupled</td>\n",
       "      <td>0.065614</td>\n",
       "      <td>captured</td>\n",
       "      <td>0.090769</td>\n",
       "    </tr>\n",
       "    <tr>\n",
       "      <th>19</th>\n",
       "      <td>optical</td>\n",
       "      <td>0.088104</td>\n",
       "      <td>broadcast</td>\n",
       "      <td>0.054624</td>\n",
       "      <td>cache</td>\n",
       "      <td>0.104457</td>\n",
       "      <td>coding</td>\n",
       "      <td>0.064343</td>\n",
       "      <td>sheet</td>\n",
       "      <td>0.085774</td>\n",
       "    </tr>\n",
       "  </tbody>\n",
       "</table>\n",
       "</div>"
      ],
      "text/plain": [
       "      LSI_topic_0   SCORE_0 LSI_topic_1   SCORE_1  LSI_topic_2   SCORE_2  \\\n",
       "0       electrode  0.445399      liquid  0.397482       object  0.301837   \n",
       "1           light  0.285574     crystal  0.388335         file  0.211373   \n",
       "2   semiconductor  0.282730   recording  0.264082       client  0.177276   \n",
       "3            gate  0.249059       pixel  0.172276        query  0.154029   \n",
       "4           pixel  0.187619   electrode  0.134507     document  0.152905   \n",
       "5         surface  0.166164       panel  0.112701      element  0.143441   \n",
       "6            film  0.164249         air  0.101152        event  0.137689   \n",
       "7      transistor  0.152432     battery  0.099087  transaction  0.137143   \n",
       "8           panel  0.147886     optical  0.090385  instruction  0.133899   \n",
       "9          liquid  0.146021     picture  0.086575    mechanism  0.132988   \n",
       "10        crystal  0.145679       water  0.086116          web  0.131709   \n",
       "11         source  0.143532      common  0.085142      program  0.131660   \n",
       "12        driving  0.120877     driving  0.084558     provides  0.129160   \n",
       "13     insulating  0.113216     machine  0.083172         item  0.123392   \n",
       "14       emitting  0.108949        disc  0.082005        store  0.116296   \n",
       "15      structure  0.108611         lcd  0.077606      virtual  0.112233   \n",
       "16      recording  0.108096       motor  0.068488    execution  0.106983   \n",
       "17  manufacturing  0.101066        door  0.065508       stored  0.106629   \n",
       "18            bit  0.096301        film  0.060534       thread  0.106043   \n",
       "19        optical  0.088104   broadcast  0.054624        cache  0.104457   \n",
       "\n",
       "    LSI_topic_3   SCORE_3 LSI_topic_4   SCORE_4  \n",
       "0       element  0.320665    document  0.285954  \n",
       "1           nan  0.204582    printing  0.230323  \n",
       "2       antenna  0.200211    material  0.225441  \n",
       "3         frame  0.190366       color  0.222495  \n",
       "4        sensor  0.150335      sensor  0.205354  \n",
       "5        camera  0.128434      camera  0.180755  \n",
       "6      portable  0.124188       query  0.146797  \n",
       "7          mean  0.122893       pixel  0.146141  \n",
       "8   transmitter  0.103456       print  0.142966  \n",
       "9         color  0.097731         ink  0.142332  \n",
       "10     document  0.096321       light  0.140158  \n",
       "11       stream  0.092786       fluid  0.113879  \n",
       "12    broadcast  0.089437     printer  0.112859  \n",
       "13     cellular  0.081002     capture  0.111100  \n",
       "14       entity  0.072237     imaging  0.110277  \n",
       "15      gateway  0.072041      charge  0.101348  \n",
       "16  arrangement  0.067467        drop  0.096593  \n",
       "17         item  0.066905     polymer  0.091508  \n",
       "18      coupled  0.065614    captured  0.090769  \n",
       "19       coding  0.064343       sheet  0.085774  "
      ]
     },
     "execution_count": 42,
     "metadata": {},
     "output_type": "execute_result"
    }
   ],
   "source": [
    "print(\"Getting results: 5 topics and scores\") \n",
    "lsi_model = TruncatedSVD(n_components=5, n_iter = 5000)\n",
    "lsi_Z = lsi_model.fit_transform(data_vectorized)\n",
    "get_topics(lsi_model, vectorizer, \"LSI\", pd.DataFrame())"
   ]
  },
  {
   "cell_type": "markdown",
   "metadata": {},
   "source": [
    "- By comparing all three NMF, LSA and LDA: results obtained are way different from each other and similarity is very less.\n",
    "- Additionally by Observing deep, in between the topics there is better similarity\n",
    "    - example: panel with score 0.147886 in LSI_topic_0 and 0.112701 in LSI_topic_1\t\n",
    "- Scores for LSA is printed above\n",
    "-  NOTE: Number of words for topics can be changed in models above."
   ]
  },
  {
   "cell_type": "code",
   "execution_count": null,
   "metadata": {},
   "outputs": [],
   "source": []
  }
 ],
 "metadata": {
  "kernelspec": {
   "display_name": "Python 3",
   "language": "python",
   "name": "python3"
  },
  "language_info": {
   "codemirror_mode": {
    "name": "ipython",
    "version": 3
   },
   "file_extension": ".py",
   "mimetype": "text/x-python",
   "name": "python",
   "nbconvert_exporter": "python",
   "pygments_lexer": "ipython3",
   "version": "3.7.1"
  }
 },
 "nbformat": 4,
 "nbformat_minor": 2
}
